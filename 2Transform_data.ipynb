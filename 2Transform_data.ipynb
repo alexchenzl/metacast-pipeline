import json
import codecs

# Read JSON data from file
def read_json_from_file(file_path):
    try:
        with codecs.open(file_path, 'r', 'utf-8') as file:
            return json.load(file)
    except UnicodeDecodeError:
        # If UTF-8 fails, try with 'iso-8859-1' encoding
        with codecs.open(file_path, 'r', 'iso-8859-1') as file:
            return json.load(file)

# Transform function
def transform_data(original_json):
    new_json = []
    for item in original_json:
        cast = item['cast']
        text = cast['text']
        new_item = {
            "hash": cast['hash'],
            "username": cast['castedBy']['fnames'][0],
            "fid": cast['fid'],
            "text": text,
            "channel": cast['channel']['name'] if cast['channel'] else None,
            "likes": cast['numberOfLikes'],
            "recasts": cast['numberOfRecasts'],
            "replies": cast['numberOfReplies'],
            "scv": cast['socialCapitalValue']['formattedValue'],
            "tags": cast['channel']['name'] if cast['channel'] else None,
            "casted_at": cast['castedAtTimestamp'],
        }
        new_json.append(new_item)
    return new_json

# Specify the file path
file_path = 'AllTrendOutput.txt'

# Load original data
try:
    original_json = read_json_from_file(file_path)
except Exception as e:
    print(f"Error reading file: {e}")
    print("File content (first 1000 characters):")
    with open(file_path, 'rb') as file:
        print(file.read(1000))
    raise

# Transform data
transformed_json = transform_data(original_json)

# Print the transformed JSON
print(json.dumps(transformed_json, indent=2, ensure_ascii=False))

# Write the transformed JSON to a file
with codecs.open('transformed_json.txt', 'w', 'utf-8') as outfile:
    json.dump(transformed_json, outfile, indent=2, ensure_ascii=False)

print("Transformation completed successfully.")