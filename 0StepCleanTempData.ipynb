{
 "cells": [
  {
   "cell_type": "code",
   "execution_count": 3,
   "id": "a1a347f1-ae55-4fa0-a6a7-54afad6fb208",
   "metadata": {},
   "outputs": [
    {
     "name": "stdout",
     "output_type": "stream",
     "text": [
      "Moved and renamed: AllChecked.txt -> AllChecked_2024-06-25_04-54-46.txt\n",
      "Moved and renamed: AllTrendOutput.txt -> AllTrendOutput_2024-06-25_04-54-46.txt\n",
      "Moved and renamed: GptChecked.txt -> GptChecked_2024-06-25_04-54-46.txt\n",
      "Moved and renamed: ManualChecked.txt -> ManualChecked_2024-06-25_04-54-46.txt\n",
      "Moved and renamed: SubmitData.py.txt -> SubmitData.py_2024-06-25_04-54-46.txt\n",
      "Moved and renamed: transformed_json.txt -> transformed_json_2024-06-25_04-54-46.txt\n",
      "\n",
      "Successfully moved and renamed 6 .txt file(s) to C:\\Users\\Steven\\Daily\\DataBackup.\n"
     ]
    }
   ],
   "source": [
    "import os\n",
    "import shutil\n",
    "from datetime import datetime\n",
    "\n",
    "def move_and_rename_txt_files():\n",
    "    # Get the current directory and create backup directory path\n",
    "    current_dir = os.getcwd()\n",
    "    backup_dir = os.path.join(current_dir, 'DataBackup')\n",
    "    \n",
    "    # Create DataBackup directory if it doesn't exist\n",
    "    if not os.path.exists(backup_dir):\n",
    "        os.makedirs(backup_dir)\n",
    "    \n",
    "    # Counter\n",
    "    moved_count = 0\n",
    "    \n",
    "    # Iterate through all files in the current directory\n",
    "    for filename in os.listdir(current_dir):\n",
    "        # Check if the file ends with .txt (case-insensitive)\n",
    "        if filename.lower().endswith('.txt'):\n",
    "            # Get current timestamp\n",
    "            current_timestamp = datetime.now().strftime(\"%Y-%m-%d_%H-%M-%S\")\n",
    "            \n",
    "            # Create new filename with timestamp\n",
    "            name, ext = os.path.splitext(filename)\n",
    "            new_filename = f\"{name}_{current_timestamp}{ext}\"\n",
    "            \n",
    "            # Define paths\n",
    "            old_path = os.path.join(current_dir, filename)\n",
    "            new_path = os.path.join(backup_dir, new_filename)\n",
    "            \n",
    "            try:\n",
    "                # Move and rename the file\n",
    "                shutil.move(old_path, new_path)\n",
    "                print(f\"Moved and renamed: {filename} -> {new_filename}\")\n",
    "                moved_count += 1\n",
    "            except Exception as e:\n",
    "                print(f\"Error moving {filename}: {e}\")\n",
    "    \n",
    "    # Print results\n",
    "    if moved_count > 0:\n",
    "        print(f\"\\nSuccessfully moved and renamed {moved_count} .txt file(s) to {backup_dir}.\")\n",
    "    else:\n",
    "        print(\"\\nNo .txt files found in the current directory.\")\n",
    "\n",
    "# Run the function\n",
    "move_and_rename_txt_files()"
   ]
  },
  {
   "cell_type": "code",
   "execution_count": null,
   "id": "d5c0d972-f4de-4cde-852a-830ad6fde7ee",
   "metadata": {},
   "outputs": [],
   "source": []
  },
  {
   "cell_type": "code",
   "execution_count": null,
   "id": "98305fd8-0e1f-4c08-b8ed-6d1b1357d09c",
   "metadata": {},
   "outputs": [],
   "source": []
  }
 ],
 "metadata": {
  "kernelspec": {
   "display_name": "Python 3 (ipykernel)",
   "language": "python",
   "name": "python3"
  },
  "language_info": {
   "codemirror_mode": {
    "name": "ipython",
    "version": 3
   },
   "file_extension": ".py",
   "mimetype": "text/x-python",
   "name": "python",
   "nbconvert_exporter": "python",
   "pygments_lexer": "ipython3",
   "version": "3.10.0rc2"
  }
 },
 "nbformat": 4,
 "nbformat_minor": 5
}
